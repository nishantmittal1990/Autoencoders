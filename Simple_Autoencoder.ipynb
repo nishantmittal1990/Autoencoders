{
 "cells": [
  {
   "cell_type": "markdown",
   "metadata": {},
   "source": [
    "# A Simple Autoencoder\n",
    "\n",
    "We'll start off by building a simple autoencoder to compress the MNIST dataset. With autoencoders, we pass input data through an encoder that makes a compressed representation of the input. Then, this representation is passed through a decoder to reconstruct the input data. Generally the encoder and decoder will be built with neural networks, then trained on example data.\n",
    "\n",
    "![Autoencoder](assets/autoencoder_1.png)\n",
    "\n",
    "In this notebook, we'll be build a simple network architecture for the encoder and decoder. Let's get started by importing our libraries and getting the dataset."
   ]
  },
  {
   "cell_type": "code",
   "execution_count": 1,
   "metadata": {
    "collapsed": true
   },
   "outputs": [],
   "source": [
    "%matplotlib inline\n",
    "\"\"\"This project helps in understading autoencorders using tensor flow\"\"\"\n",
    "\n",
    "# first we will import numpy, tensorflow and pyplot\n",
    "import numpy as np\n",
    "import tensorflow as tf\n",
    "import matplotlib.pyplot as plt"
   ]
  },
  {
   "cell_type": "code",
   "execution_count": 2,
   "metadata": {
    "collapsed": false
   },
   "outputs": [
    {
     "name": "stdout",
     "output_type": "stream",
     "text": [
      "Extracting MNIST_data\\train-images-idx3-ubyte.gz\n",
      "Extracting MNIST_data\\train-labels-idx1-ubyte.gz\n",
      "Extracting MNIST_data\\t10k-images-idx3-ubyte.gz\n",
      "Extracting MNIST_data\\t10k-labels-idx1-ubyte.gz\n"
     ]
    }
   ],
   "source": [
    "from tensorflow.examples.tutorials.mnist import input_data\n",
    "# Tensorflow has the convient method called inout_data to load the datasets\n",
    "# Validation size is 0 here so basically this doesn't hold any data for actual validation, for testing.\n",
    "\n",
    "# In this example i only want to get my traninig loss as low as possible. I am not worried abt validation score\n",
    "# I am not trying to predict anything, due to\n",
    "# which validation_size is set to 0\n",
    "mnist = input_data.read_data_sets('MNIST_data', validation_size=0)"
   ]
  },
  {
   "cell_type": "markdown",
   "metadata": {},
   "source": [
    "Below I'm plotting an example image from the MNIST dataset. These are 28x28 grayscale images of handwritten digits."
   ]
  },
  {
   "cell_type": "code",
   "execution_count": 3,
   "metadata": {
    "collapsed": false
   },
   "outputs": [
    {
     "data": {
      "text/plain": [
       "<matplotlib.image.AxesImage at 0x167e4b120f0>"
      ]
     },
     "execution_count": 3,
     "metadata": {},
     "output_type": "execute_result"
    },
    {
     "data": {
      "image/png": "[encoded data removed]",
      "text/plain": [
       "<matplotlib.figure.Figure at 0x167e3662828>"
      ]
     },
     "metadata": {},
     "output_type": "display_data"
    }
   ],
   "source": [
    "# we have loaded one image and saved in img object\n",
    "img = mnist.train.images[2]\n",
    "# the image is of pixel 28*28 and grey scale image\n",
    "# so this is like teh origional data we are going to compress and reconstruct.\n",
    "plt.imshow(img.reshape((28, 28)), cmap='Greys_r')"
   ]
  },
  {
   "cell_type": "code",
   "execution_count": null,
   "metadata": {
    "collapsed": true
   },
   "outputs": [],
   "source": [
    "\"\"\"\n",
    "So now we have training image img.\n",
    "as the below highlighted model we have input, one hidden layer and one output layer.\n",
    "We will pass the dataset image to this input layer i.e. we will flatten this input to form the 28*28 --> 784 length\n",
    "vector. The input layer has 784 units to match the input vector, and then we have a hidden layer.\n",
    "\n",
    "This hidden layer is going to be used as our compressed representation, which means that what ever the values our hidden\n",
    "layer have is what are compression vector is.\n",
    "\n",
    "So, this the basically simples autoencorder you can make. We will build a single relu hidden layer that would be used\n",
    "as a compressed representation.\n",
    "if we want to complex it a little bit, we can more layer surrounded that hiddenlayer and have one middle layer as your\n",
    "compressed representation.\n",
    "\n",
    "The output is again going to be 784 units to match our origional images because we want to compare our reconstruction,\n",
    "which we get from output, to the origional image, so that they need to be of same size.\n",
    "\n",
    "As these images are normalized to 0 and 1, so out output on our output layer to be between zero and one.\n",
    "\n",
    "so we can use sigmoid activation on the output to get that, right. so sigmoid makes it like squashes all of the inputs\n",
    "to be between 0 and 1.\n",
    "so if we use sigmoid we are guarantee to get the values between 0 and 1 at the output and same can be compared with the\n",
    "origional images.\n",
    "\n",
    "\"\"\""
   ]
  },
  {
   "cell_type": "markdown",
   "metadata": {},
   "source": [
    "We'll train an autoencoder with these images by flattening them into 784 length vectors. The images from this dataset are already normalized such that the values are between 0 and 1. Let's start by building basically the simplest autoencoder with a **single ReLU hidden layer**. This layer will be used as the compressed representation. Then, the encoder is the input layer and the hidden layer. The decoder is the hidden layer and the output layer. Since the images are normalized between 0 and 1, we need to use a **sigmoid activation on the output layer** to get values matching the input.\n",
    "\n",
    "![Autoencoder architecture](assets/simple_autoencoder.png)\n",
    "\n",
    "\n",
    "> **Exercise:** Build the graph for the autoencoder in the cell below. The input images will be flattened into 784 length vectors. The targets are the same as the inputs. And there should be one hidden layer with a ReLU activation and an output layer with a sigmoid activation. Feel free to use TensorFlow's higher level API, `tf.layers`. For instance, you would use [`tf.layers.dense(inputs, units, activation=tf.nn.relu)`](https://www.tensorflow.org/api_docs/python/tf/layers/dense) to create a fully connected layer with a ReLU activation. The loss should be calculated with the cross-entropy loss, there is a convenient TensorFlow function for this `tf.nn.sigmoid_cross_entropy_with_logits` ([documentation](https://www.tensorflow.org/api_docs/python/tf/nn/sigmoid_cross_entropy_with_logits)). You should note that `tf.nn.sigmoid_cross_entropy_with_logits` takes the logits, but to get the reconstructed images you'll need to pass the logits through the sigmoid function."
   ]
  },
  {
   "cell_type": "code",
   "execution_count": 4,
   "metadata": {
    "collapsed": false
   },
   "outputs": [],
   "source": [
    "# Size of the encoding layer (the hidden layer)\n",
    "# the larger this no is the better gonna be your reconstructions but again at the cost of space.\n",
    "encoding_dim = 32 # feel free to change this value\n",
    "\n",
    "img_size = mnist.train.images.shape[1] # 784 is the image shape\n",
    "#print(\"Image size : \", img_size)\n",
    "\n",
    "# Input and target placeholders\n",
    "inputs_ = tf.placeholder(tf.float32, (None, img_size), name = 'inputs')\n",
    "targets_ = tf.placeholder(tf.float32, (None, img_size), name = 'targets')\n",
    "\n",
    "# Output of hidden layer, single fully connected layer here with ReLU activation\n",
    "encoded = tf.layers.dense(inputs_, encoding_dim, activation = tf.nn.relu)\n",
    "\n",
    "# Output layer logits, fully connected layer with no activation\n",
    "# here we will find the logits, we will pass these logits to the cross-entropy loss\n",
    "logits = tf.layers.dense(encoded, img_size, activation = None)\n",
    "# Sigmoid output from logits\n",
    "# these are the actually decoded images, we are passing the logits through sigmoid which squashes it between 0 and 1.\n",
    "# this way we can reconstruct the images.\n",
    "decoded = tf.nn.sigmoid(logits, name = 'output')\n",
    "\n",
    "# Sigmoid cross-entropy loss\n",
    "# here we are calculating the loss from sigmoid_cross_entropy_with_logits, loss is teh actual difference between\n",
    "# input images and targets\n",
    "# we need the difference between our targets and our logits\n",
    "# so logits are like are reconstruction and targets are like origional images, we are trying to get these close as possible.\n",
    "\n",
    "loss = tf.nn.sigmoid_cross_entropy_with_logits(logits=logits, labels=targets_)\n",
    "# Mean of the loss\n",
    "# tf.reduce mean, we are trying to get the mean of loss, basically for all the images we are passing. We are passing\n",
    "# in a mini-batch of images, This gets the mean of the loss across all the images in that mini-batch.\n",
    "cost = tf.reduce_mean(loss)\n",
    "\n",
    "# Adam optimizer\n",
    "# here we are using ADAM optimizer and minimizing our cost.\n",
    "opt = tf.train.AdamOptimizer(learning_rate=0.001).minimize(cost)\n"
   ]
  },
  {
   "cell_type": "markdown",
   "metadata": {},
   "source": [
    "## Training"
   ]
  },
  {
   "cell_type": "code",
   "execution_count": 5,
   "metadata": {
    "collapsed": true
   },
   "outputs": [],
   "source": [
    "# Create the session\n",
    "sess = tf.Session()"
   ]
  },
  {
   "cell_type": "markdown",
   "metadata": {},
   "source": [
    "Here I'll write a bit of code to train the network. I'm not too interested in validation here, so I'll just monitor the training loss. \n",
    "\n",
    "Calling `mnist.train.next_batch(batch_size)` will return a tuple of `(images, labels)`. We're not concerned with the labels here, we just need the images. Otherwise this is pretty straightfoward training with TensorFlow. We initialize the variables with `sess.run(tf.global_variables_initializer())`. Then, run the optimizer and get the loss with `batch_cost, _ = sess.run([cost, opt], feed_dict=feed)`."
   ]
  },
  {
   "cell_type": "code",
   "execution_count": 7,
   "metadata": {
    "collapsed": false
   },
   "outputs": [
    {
     "name": "stdout",
     "output_type": "stream",
     "text": [
      "Epoch: 1/20... Training loss: 0.1752\n",
      "Epoch: 2/20... Training loss: 0.1404\n",
      "Epoch: 3/20... Training loss: 0.1248\n",
      "Epoch: 4/20... Training loss: 0.1168\n",
      "Epoch: 5/20... Training loss: 0.1102\n",
      "Epoch: 6/20... Training loss: 0.1013\n",
      "Epoch: 7/20... Training loss: 0.0986\n",
      "Epoch: 8/20... Training loss: 0.0985\n",
      "Epoch: 9/20... Training loss: 0.0948\n",
      "Epoch: 10/20... Training loss: 0.0948\n",
      "Epoch: 11/20... Training loss: 0.0983\n",
      "Epoch: 12/20... Training loss: 0.0940\n",
      "Epoch: 13/20... Training loss: 0.0951\n",
      "Epoch: 14/20... Training loss: 0.0930\n",
      "Epoch: 15/20... Training loss: 0.0929\n",
      "Epoch: 16/20... Training loss: 0.0920\n",
      "Epoch: 17/20... Training loss: 0.0937\n",
      "Epoch: 18/20... Training loss: 0.0941\n",
      "Epoch: 19/20... Training loss: 0.0961\n",
      "Epoch: 20/20... Training loss: 0.0928\n"
     ]
    }
   ],
   "source": [
    "epochs = 20\n",
    "batch_size = 200\n",
    "sess.run(tf.global_variables_initializer())\n",
    "for e in range(epochs):\n",
    "    for ii in range(mnist.train.num_examples//batch_size):\n",
    "        # basically we are getting out batches from train.next_batch\n",
    "        batch = mnist.train.next_batch(batch_size)\n",
    "        # and creating our feed dict\n",
    "        # the inputs and targets are same\n",
    "        feed = {inputs_: batch[0], targets_: batch[0]}\n",
    "        # we run our cost and optimizer\n",
    "        batch_cost, _ = sess.run([cost, opt], feed_dict=feed)\n",
    "        # we get our cost and checkout what are our training losses\n",
    "    print(\"Epoch: {}/{}...\".format(e+1, epochs),\n",
    "              \"Training loss: {:.4f}\".format(batch_cost))"
   ]
  },
  {
   "cell_type": "markdown",
   "metadata": {},
   "source": [
    "## Checking out the results\n",
    "\n",
    "Below I've plotted some of the test images along with their reconstructions. For the most part these look pretty good except for some blurriness in some parts."
   ]
  },
  {
   "cell_type": "code",
   "execution_count": 8,
   "metadata": {
    "collapsed": false
   },
   "outputs": [
    {
     "data": {
      "image/png": "[encoded data removed]",
      "text/plain": [
       "<matplotlib.figure.Figure at 0x167e4d0a630>"
      ]
     },
     "metadata": {},
     "output_type": "display_data"
    }
   ],
   "source": [
    "fig, axes = plt.subplots(nrows=2, ncols=10, sharex=True, sharey=True, figsize=(20,4))\n",
    "in_imgs = mnist.test.images[:10]\n",
    "reconstructed, compressed = sess.run([decoded, encoded], feed_dict={inputs_: in_imgs})\n",
    "\n",
    "for images, row in zip([in_imgs, reconstructed], axes):\n",
    "    for img, ax in zip(images, row):\n",
    "        ax.imshow(img.reshape((28, 28)), cmap='Greys_r')\n",
    "        ax.get_xaxis().set_visible(False)\n",
    "        ax.get_yaxis().set_visible(False)\n",
    "\n",
    "fig.tight_layout(pad=0.1)"
   ]
  },
  {
   "cell_type": "code",
   "execution_count": 9,
   "metadata": {
    "collapsed": true
   },
   "outputs": [],
   "source": [
    "sess.close()"
   ]
  },
  {
   "cell_type": "markdown",
   "metadata": {
    "collapsed": true
   },
   "source": [
    "## Up Next\n",
    "\n",
    "We're dealing with images here, so we can (usually) get better performance using convolution layers. So, next we'll build a better autoencoder with convolutional layers.\n",
    "\n",
    "In practice, autoencoders aren't actually better at compression compared to typical methods like JPEGs and MP3s. But, they are being used for noise reduction, which you'll also build."
   ]
  }
 ],
 "metadata": {
  "kernelspec": {
   "display_name": "Python 3",
   "language": "python",
   "name": "python3"
  },
  "language_info": {
   "codemirror_mode": {
    "name": "ipython",
    "version": 3
   },
   "file_extension": ".py",
   "mimetype": "text/x-python",
   "name": "python",
   "nbconvert_exporter": "python",
   "pygments_lexer": "ipython3",
   "version": "3.5.2"
  }
 },
 "nbformat": 4,
 "nbformat_minor": 2
}
